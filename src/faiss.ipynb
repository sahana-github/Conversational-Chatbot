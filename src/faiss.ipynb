{
 "cells": [
  {
   "cell_type": "code",
   "execution_count": 4,
   "metadata": {},
   "outputs": [
    {
     "name": "stdout",
     "output_type": "stream",
     "text": [
      "Indices of nearest neighbors: [[ 0 36]]\n",
      "Distances to nearest neighbors: [[0.         0.63177973]]\n"
     ]
    }
   ],
   "source": [
    "import numpy as np\n",
    "import faiss\n",
    "from sentence_transformers import SentenceTransformer\n",
    "\n",
    "# Load your model\n",
    "model = SentenceTransformer('all-MiniLM-L6-v2')\n",
    "\n",
    "# Read text chunks from a file\n",
    "with open('C:\\\\Users\\\\sahan\\\\Conversational-Chatbot\\\\data\\\\text_chunks.txt', 'r', encoding='utf-8') as file:\n",
    "    text_chunks = file.read().strip().split('\\n---\\n')  # Assuming chunks are separated by a line of dashes\n",
    "\n",
    "# Generate embeddings\n",
    "embeddings = model.encode(text_chunks)\n",
    "embeddings = np.array(embeddings).astype('float32')  # Convert to float32\n",
    "\n",
    "# Create a Faiss index\n",
    "dimension = embeddings.shape[1]\n",
    "index = faiss.IndexFlatL2(dimension)  # Use L2 distance\n",
    "index.add(embeddings)  # Add embeddings to the index\n",
    "\n",
    "# Perform a search (for demonstration, using the first document as a query)\n",
    "query_vector = embeddings[0].reshape(1, -1)  # Reshape for Faiss\n",
    "k = 2  # Number of nearest neighbors to retrieve\n",
    "distances, indices = index.search(query_vector, k)\n",
    "\n",
    "print(\"Indices of nearest neighbors:\", indices)\n",
    "print(\"Distances to nearest neighbors:\", distances)\n"
   ]
  },
  {
   "cell_type": "code",
   "execution_count": 5,
   "metadata": {},
   "outputs": [
    {
     "name": "stdout",
     "output_type": "stream",
     "text": [
      "Nearest neighbor text: Andreas C. Müller & Sarah GuidoIntroduction to  \n",
      "Machine \n",
      "Learning  \n",
      "with P y thon   \n",
      "A GUIDE FOR DATA SCIENTISTS\n",
      "\n",
      "\n",
      "Andreas C. Müller and Sarah GuidoIntroduction to Machine Learning\n",
      "with Python\n",
      "A Guide for Data Scientists\n",
      "Boston Farnham Sebastopol Tokyo Beijing Boston Farnham Sebastopol Tokyo Beijing\n",
      "978-1-449-36941-5\n",
      "[LSI]Introduction to Machine Learning with Python\n",
      "by Andreas C. Müller and Sarah Guido\n",
      "Copyright © 2017 Sarah Guido, Andreas Müller. All rights reserved.Printed in the United States of America\n",
      "Nearest neighbor text: learning problems. This is an introduc‐\n",
      "tory book requiring no previous knowledge of machine learning or artificial intelli‐\n",
      "gence (AI). We focus on using Python and the scikit-learn  library, and work\n",
      "through all the steps to create a successful machine learning application. The meth‐\n",
      "ods we introduce will be helpful for scientists and researchers, as well as data scien‐\n",
      "tists working on commercial applications. Y ou will get the most out of the book if you\n",
      "are somewhat familiar with Python and the NumPy a\n"
     ]
    }
   ],
   "source": [
    "# Example of retrieving the actual text based on the indices\n",
    "for idx in indices[0]:  # Since `indices` is a 2D array\n",
    "    print(\"Nearest neighbor text:\", text_chunks[idx])\n"
   ]
  }
 ],
 "metadata": {
  "kernelspec": {
   "display_name": "chatbot",
   "language": "python",
   "name": "python3"
  },
  "language_info": {
   "codemirror_mode": {
    "name": "ipython",
    "version": 3
   },
   "file_extension": ".py",
   "mimetype": "text/x-python",
   "name": "python",
   "nbconvert_exporter": "python",
   "pygments_lexer": "ipython3",
   "version": "3.12.3"
  }
 },
 "nbformat": 4,
 "nbformat_minor": 2
}
